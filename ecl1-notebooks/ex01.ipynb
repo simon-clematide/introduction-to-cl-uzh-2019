{
 "cells": [
  {
   "cell_type": "markdown",
   "metadata": {},
   "source": [
    "# ECL I: Exercises 2: experiments with existing tokenizers"
   ]
  },
  {
   "cell_type": "markdown",
   "metadata": {},
   "source": [
    "## Using cutter"
   ]
  },
  {
   "cell_type": "markdown",
   "metadata": {
    "cell_style": "center"
   },
   "source": [
    "Execute the following two cells (Shift+Return) "
   ]
  },
  {
   "cell_type": "code",
   "execution_count": 11,
   "metadata": {},
   "outputs": [
    {
     "name": "stdout",
     "output_type": "stream",
     "text": [
      "Dear Diary! On September 16th the autumn semester 2019 started. Lectures, super-cheap canteen food and exercises etc. are waiting for me. I especially like the ECL I lecture and I can hardly wait to learn more about automatic language processing. I am looking forward to the tutorials that will take place every Friday at 12:15 p.m. from the second week on. I am also very much looking forward to the \"Kennen+Lern-Tage\"...\r\n",
      "Mr. O'Neill thinks that the boys' stories about Chile's capital aren't amusing."
     ]
    }
   ],
   "source": [
    "! cat ex01/text-en.txt"
   ]
  },
  {
   "cell_type": "code",
   "execution_count": 12,
   "metadata": {},
   "outputs": [
    {
     "name": "stdout",
     "output_type": "stream",
     "text": [
      "Liebes Tagebuch! Am 16. September hat das Herbstsemester 2019 begonnen. Auf mich warten u.a. Vorlesungen, super-billiges Mensa-Essen und Übungen. Vor allem die ECL I Vorlesung gefällt mir und ich kann es kaum erwarten, mehr über maschinelle Sprachverarbeitung zu lernen. Ich bin gespannt auf die Tutorate, die ab der zweiten Woche jeden Freitag um 12 Uhr 15 stattfinden. Ich freue mich auch sehr auf die Kennen+Lern-Tage...\r\n"
     ]
    }
   ],
   "source": [
    "! cat ex01/text-de.txt"
   ]
  },
  {
   "cell_type": "markdown",
   "metadata": {},
   "source": [
    "Copy the texts from above into the input form of the cutter web demo:\n",
    "https://pub.cl.uzh.ch/projects/sparcling/cutter/current/"
   ]
  },
  {
   "cell_type": "markdown",
   "metadata": {},
   "source": [
    "# Moses tokenizer\n",
    "The moses tokenizer is another multilingual tokenizer, known from the statistical Machine Translation system [moses](https://github.com/moses-smt/mosesdecoder/blob/master/scripts/tokenizer/tokenizer.perl) and written in the programming language PERL (once a very popular language in the NLP community). It does not produce verticalized text, but separates tokens by spaces."
   ]
  },
  {
   "cell_type": "code",
   "execution_count": 29,
   "metadata": {},
   "outputs": [
    {
     "name": "stdout",
     "output_type": "stream",
     "text": [
      "Liebes Tagebuch ! Am 16 . September hat das Herbstsemester 2019 begonnen . Auf mich warten u.a. Vorlesungen , super-billiges Mensa-Essen und Übungen . Vor allem die ECL I Vorlesung gefällt mir und ich kann es kaum erwarten , mehr über maschinelle Sprachverarbeitung zu lernen . Ich bin gespannt auf die Tutorate , die ab der zweiten Woche jeden Freitag um 12 Uhr 15 stattfinden . Ich freue mich auch sehr auf die Kennen + Lern-Tage ...\r\n"
     ]
    }
   ],
   "source": [
    "!perl ex01/tokenizer.perl  -q -l de < ex01/text-de.txt"
   ]
  },
  {
   "cell_type": "code",
   "execution_count": 31,
   "metadata": {},
   "outputs": [
    {
     "name": "stdout",
     "output_type": "stream",
     "text": [
      "Dear Diary ! On September 16th the autumn semester 2019 started . Lectures , super-cheap canteen food and exercises etc. are waiting for me . I especially like the ECL I lecture and I can hardly wait to learn more about automatic language processing . I am looking forward to the tutorials that will take place every Friday at 12 : 15 p.m. from the second week on . I am also very much looking forward to the \" Kennen + Lern-Tage \" ...\r\n",
      "Mr . O 'Neill thinks that the boys ' stories about Chile 's capital aren 't amusing .\r\n"
     ]
    }
   ],
   "source": [
    "!perl ex01/tokenizer.perl -no-escape -q -l en < ex01/text-en.txt"
   ]
  }
 ],
 "metadata": {
  "kernelspec": {
   "display_name": "Python 3",
   "language": "python",
   "name": "python3"
  },
  "language_info": {
   "codemirror_mode": {
    "name": "ipython",
    "version": 3
   },
   "file_extension": ".py",
   "mimetype": "text/x-python",
   "name": "python",
   "nbconvert_exporter": "python",
   "pygments_lexer": "ipython3",
   "version": "3.7.4"
  }
 },
 "nbformat": 4,
 "nbformat_minor": 2
}
